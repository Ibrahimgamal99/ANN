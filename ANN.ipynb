{
 "cells": [
  {
   "cell_type": "code",
   "execution_count": 2,
   "metadata": {},
   "outputs": [],
   "source": [
    "from keras.models import Sequential\n",
    "from keras.layers import Dense\n",
    "import keras\n",
    "import pandas as pd\n",
    "import numpy as np\n",
    "import matplotlib.pyplot as plt"
   ]
  },
  {
   "cell_type": "code",
   "execution_count": 3,
   "metadata": {},
   "outputs": [
    {
     "data": {
      "text/html": [
       "<div>\n",
       "<style scoped>\n",
       "    .dataframe tbody tr th:only-of-type {\n",
       "        vertical-align: middle;\n",
       "    }\n",
       "\n",
       "    .dataframe tbody tr th {\n",
       "        vertical-align: top;\n",
       "    }\n",
       "\n",
       "    .dataframe thead th {\n",
       "        text-align: right;\n",
       "    }\n",
       "</style>\n",
       "<table border=\"1\" class=\"dataframe\">\n",
       "  <thead>\n",
       "    <tr style=\"text-align: right;\">\n",
       "      <th></th>\n",
       "      <th>RowNumber</th>\n",
       "      <th>CustomerId</th>\n",
       "      <th>Surname</th>\n",
       "      <th>CreditScore</th>\n",
       "      <th>Geography</th>\n",
       "      <th>Gender</th>\n",
       "      <th>Age</th>\n",
       "      <th>Tenure</th>\n",
       "      <th>Balance</th>\n",
       "      <th>NumOfProducts</th>\n",
       "      <th>HasCrCard</th>\n",
       "      <th>IsActiveMember</th>\n",
       "      <th>EstimatedSalary</th>\n",
       "      <th>Exited</th>\n",
       "    </tr>\n",
       "  </thead>\n",
       "  <tbody>\n",
       "    <tr>\n",
       "      <th>7781</th>\n",
       "      <td>7782</td>\n",
       "      <td>15759184</td>\n",
       "      <td>Russell</td>\n",
       "      <td>705</td>\n",
       "      <td>France</td>\n",
       "      <td>Male</td>\n",
       "      <td>34</td>\n",
       "      <td>7</td>\n",
       "      <td>117715.84</td>\n",
       "      <td>1</td>\n",
       "      <td>1</td>\n",
       "      <td>0</td>\n",
       "      <td>2498.67</td>\n",
       "      <td>0</td>\n",
       "    </tr>\n",
       "    <tr>\n",
       "      <th>6465</th>\n",
       "      <td>6466</td>\n",
       "      <td>15606855</td>\n",
       "      <td>Wang</td>\n",
       "      <td>730</td>\n",
       "      <td>Spain</td>\n",
       "      <td>Male</td>\n",
       "      <td>26</td>\n",
       "      <td>6</td>\n",
       "      <td>0.00</td>\n",
       "      <td>2</td>\n",
       "      <td>1</td>\n",
       "      <td>1</td>\n",
       "      <td>185808.70</td>\n",
       "      <td>0</td>\n",
       "    </tr>\n",
       "    <tr>\n",
       "      <th>8033</th>\n",
       "      <td>8034</td>\n",
       "      <td>15576526</td>\n",
       "      <td>Steele</td>\n",
       "      <td>850</td>\n",
       "      <td>Spain</td>\n",
       "      <td>Male</td>\n",
       "      <td>36</td>\n",
       "      <td>6</td>\n",
       "      <td>0.00</td>\n",
       "      <td>2</td>\n",
       "      <td>0</td>\n",
       "      <td>1</td>\n",
       "      <td>41291.05</td>\n",
       "      <td>0</td>\n",
       "    </tr>\n",
       "    <tr>\n",
       "      <th>3808</th>\n",
       "      <td>3809</td>\n",
       "      <td>15698117</td>\n",
       "      <td>Jerger</td>\n",
       "      <td>701</td>\n",
       "      <td>Germany</td>\n",
       "      <td>Male</td>\n",
       "      <td>41</td>\n",
       "      <td>0</td>\n",
       "      <td>150844.94</td>\n",
       "      <td>1</td>\n",
       "      <td>0</td>\n",
       "      <td>1</td>\n",
       "      <td>127623.36</td>\n",
       "      <td>0</td>\n",
       "    </tr>\n",
       "    <tr>\n",
       "      <th>8767</th>\n",
       "      <td>8768</td>\n",
       "      <td>15585466</td>\n",
       "      <td>Russo</td>\n",
       "      <td>552</td>\n",
       "      <td>France</td>\n",
       "      <td>Male</td>\n",
       "      <td>29</td>\n",
       "      <td>10</td>\n",
       "      <td>0.00</td>\n",
       "      <td>2</td>\n",
       "      <td>1</td>\n",
       "      <td>0</td>\n",
       "      <td>12186.83</td>\n",
       "      <td>0</td>\n",
       "    </tr>\n",
       "  </tbody>\n",
       "</table>\n",
       "</div>"
      ],
      "text/plain": [
       "      RowNumber  CustomerId  Surname  CreditScore Geography Gender  Age  \\\n",
       "7781       7782    15759184  Russell          705    France   Male   34   \n",
       "6465       6466    15606855     Wang          730     Spain   Male   26   \n",
       "8033       8034    15576526   Steele          850     Spain   Male   36   \n",
       "3808       3809    15698117   Jerger          701   Germany   Male   41   \n",
       "8767       8768    15585466    Russo          552    France   Male   29   \n",
       "\n",
       "      Tenure    Balance  NumOfProducts  HasCrCard  IsActiveMember  \\\n",
       "7781       7  117715.84              1          1               0   \n",
       "6465       6       0.00              2          1               1   \n",
       "8033       6       0.00              2          0               1   \n",
       "3808       0  150844.94              1          0               1   \n",
       "8767      10       0.00              2          1               0   \n",
       "\n",
       "      EstimatedSalary  Exited  \n",
       "7781          2498.67       0  \n",
       "6465        185808.70       0  \n",
       "8033         41291.05       0  \n",
       "3808        127623.36       0  \n",
       "8767         12186.83       0  "
      ]
     },
     "execution_count": 3,
     "metadata": {},
     "output_type": "execute_result"
    }
   ],
   "source": [
    "df=pd.read_csv('Churn_Modelling.csv')\n",
    "df.sample(5)"
   ]
  },
  {
   "cell_type": "code",
   "execution_count": 4,
   "metadata": {},
   "outputs": [
    {
     "name": "stdout",
     "output_type": "stream",
     "text": [
      "<class 'pandas.core.frame.DataFrame'>\n",
      "RangeIndex: 10000 entries, 0 to 9999\n",
      "Data columns (total 14 columns):\n",
      " #   Column           Non-Null Count  Dtype  \n",
      "---  ------           --------------  -----  \n",
      " 0   RowNumber        10000 non-null  int64  \n",
      " 1   CustomerId       10000 non-null  int64  \n",
      " 2   Surname          10000 non-null  object \n",
      " 3   CreditScore      10000 non-null  int64  \n",
      " 4   Geography        10000 non-null  object \n",
      " 5   Gender           10000 non-null  object \n",
      " 6   Age              10000 non-null  int64  \n",
      " 7   Tenure           10000 non-null  int64  \n",
      " 8   Balance          10000 non-null  float64\n",
      " 9   NumOfProducts    10000 non-null  int64  \n",
      " 10  HasCrCard        10000 non-null  int64  \n",
      " 11  IsActiveMember   10000 non-null  int64  \n",
      " 12  EstimatedSalary  10000 non-null  float64\n",
      " 13  Exited           10000 non-null  int64  \n",
      "dtypes: float64(2), int64(9), object(3)\n",
      "memory usage: 1.1+ MB\n"
     ]
    }
   ],
   "source": [
    "df.info()"
   ]
  },
  {
   "cell_type": "code",
   "execution_count": 5,
   "metadata": {},
   "outputs": [
    {
     "name": "stdout",
     "output_type": "stream",
     "text": [
      "['France' 'Spain' 'Germany']\n",
      "['Female' 'Male']\n"
     ]
    }
   ],
   "source": [
    "print(df['Geography'].unique())\n",
    "print(df['Gender'].unique())"
   ]
  },
  {
   "cell_type": "code",
   "execution_count": 6,
   "metadata": {},
   "outputs": [],
   "source": [
    "def gender(g):\n",
    "    if g==\"Female\":\n",
    "        g=0\n",
    "    else:\n",
    "        g=1\n",
    "    return g"
   ]
  },
  {
   "cell_type": "code",
   "execution_count": 7,
   "metadata": {},
   "outputs": [],
   "source": [
    "from sklearn.preprocessing import LabelEncoder,OneHotEncoder\n",
    "le=LabelEncoder()\n",
    "df['Geography']=le.fit_transform(df['Geography'])\n",
    "df['Gender']=df['Gender'].apply(gender)"
   ]
  },
  {
   "cell_type": "code",
   "execution_count": 8,
   "metadata": {},
   "outputs": [
    {
     "name": "stdout",
     "output_type": "stream",
     "text": [
      "[0 2 1]\n",
      "[0 1]\n"
     ]
    }
   ],
   "source": [
    "print(df['Geography'].unique())\n",
    "print(df['Gender'].unique()) # 0 is female 1 is male"
   ]
  },
  {
   "cell_type": "code",
   "execution_count": 9,
   "metadata": {},
   "outputs": [
    {
     "data": {
      "text/plain": [
       "(10000, 14)"
      ]
     },
     "execution_count": 9,
     "metadata": {},
     "output_type": "execute_result"
    }
   ],
   "source": [
    "df.shape"
   ]
  },
  {
   "cell_type": "code",
   "execution_count": 10,
   "metadata": {},
   "outputs": [
    {
     "data": {
      "text/html": [
       "<div>\n",
       "<style scoped>\n",
       "    .dataframe tbody tr th:only-of-type {\n",
       "        vertical-align: middle;\n",
       "    }\n",
       "\n",
       "    .dataframe tbody tr th {\n",
       "        vertical-align: top;\n",
       "    }\n",
       "\n",
       "    .dataframe thead th {\n",
       "        text-align: right;\n",
       "    }\n",
       "</style>\n",
       "<table border=\"1\" class=\"dataframe\">\n",
       "  <thead>\n",
       "    <tr style=\"text-align: right;\">\n",
       "      <th></th>\n",
       "      <th>RowNumber</th>\n",
       "      <th>CustomerId</th>\n",
       "      <th>CreditScore</th>\n",
       "      <th>Geography</th>\n",
       "      <th>Gender</th>\n",
       "      <th>Age</th>\n",
       "      <th>Tenure</th>\n",
       "      <th>Balance</th>\n",
       "      <th>NumOfProducts</th>\n",
       "      <th>HasCrCard</th>\n",
       "      <th>IsActiveMember</th>\n",
       "      <th>EstimatedSalary</th>\n",
       "      <th>Exited</th>\n",
       "    </tr>\n",
       "  </thead>\n",
       "  <tbody>\n",
       "    <tr>\n",
       "      <th>count</th>\n",
       "      <td>10000.00000</td>\n",
       "      <td>1.000000e+04</td>\n",
       "      <td>10000.000000</td>\n",
       "      <td>10000.000000</td>\n",
       "      <td>10000.000000</td>\n",
       "      <td>10000.000000</td>\n",
       "      <td>10000.000000</td>\n",
       "      <td>10000.000000</td>\n",
       "      <td>10000.000000</td>\n",
       "      <td>10000.00000</td>\n",
       "      <td>10000.000000</td>\n",
       "      <td>10000.000000</td>\n",
       "      <td>10000.000000</td>\n",
       "    </tr>\n",
       "    <tr>\n",
       "      <th>mean</th>\n",
       "      <td>5000.50000</td>\n",
       "      <td>1.569094e+07</td>\n",
       "      <td>650.528800</td>\n",
       "      <td>0.746300</td>\n",
       "      <td>0.545700</td>\n",
       "      <td>38.921800</td>\n",
       "      <td>5.012800</td>\n",
       "      <td>76485.889288</td>\n",
       "      <td>1.530200</td>\n",
       "      <td>0.70550</td>\n",
       "      <td>0.515100</td>\n",
       "      <td>100090.239881</td>\n",
       "      <td>0.203700</td>\n",
       "    </tr>\n",
       "    <tr>\n",
       "      <th>std</th>\n",
       "      <td>2886.89568</td>\n",
       "      <td>7.193619e+04</td>\n",
       "      <td>96.653299</td>\n",
       "      <td>0.827529</td>\n",
       "      <td>0.497932</td>\n",
       "      <td>10.487806</td>\n",
       "      <td>2.892174</td>\n",
       "      <td>62397.405202</td>\n",
       "      <td>0.581654</td>\n",
       "      <td>0.45584</td>\n",
       "      <td>0.499797</td>\n",
       "      <td>57510.492818</td>\n",
       "      <td>0.402769</td>\n",
       "    </tr>\n",
       "    <tr>\n",
       "      <th>min</th>\n",
       "      <td>1.00000</td>\n",
       "      <td>1.556570e+07</td>\n",
       "      <td>350.000000</td>\n",
       "      <td>0.000000</td>\n",
       "      <td>0.000000</td>\n",
       "      <td>18.000000</td>\n",
       "      <td>0.000000</td>\n",
       "      <td>0.000000</td>\n",
       "      <td>1.000000</td>\n",
       "      <td>0.00000</td>\n",
       "      <td>0.000000</td>\n",
       "      <td>11.580000</td>\n",
       "      <td>0.000000</td>\n",
       "    </tr>\n",
       "    <tr>\n",
       "      <th>25%</th>\n",
       "      <td>2500.75000</td>\n",
       "      <td>1.562853e+07</td>\n",
       "      <td>584.000000</td>\n",
       "      <td>0.000000</td>\n",
       "      <td>0.000000</td>\n",
       "      <td>32.000000</td>\n",
       "      <td>3.000000</td>\n",
       "      <td>0.000000</td>\n",
       "      <td>1.000000</td>\n",
       "      <td>0.00000</td>\n",
       "      <td>0.000000</td>\n",
       "      <td>51002.110000</td>\n",
       "      <td>0.000000</td>\n",
       "    </tr>\n",
       "    <tr>\n",
       "      <th>50%</th>\n",
       "      <td>5000.50000</td>\n",
       "      <td>1.569074e+07</td>\n",
       "      <td>652.000000</td>\n",
       "      <td>0.000000</td>\n",
       "      <td>1.000000</td>\n",
       "      <td>37.000000</td>\n",
       "      <td>5.000000</td>\n",
       "      <td>97198.540000</td>\n",
       "      <td>1.000000</td>\n",
       "      <td>1.00000</td>\n",
       "      <td>1.000000</td>\n",
       "      <td>100193.915000</td>\n",
       "      <td>0.000000</td>\n",
       "    </tr>\n",
       "    <tr>\n",
       "      <th>75%</th>\n",
       "      <td>7500.25000</td>\n",
       "      <td>1.575323e+07</td>\n",
       "      <td>718.000000</td>\n",
       "      <td>1.000000</td>\n",
       "      <td>1.000000</td>\n",
       "      <td>44.000000</td>\n",
       "      <td>7.000000</td>\n",
       "      <td>127644.240000</td>\n",
       "      <td>2.000000</td>\n",
       "      <td>1.00000</td>\n",
       "      <td>1.000000</td>\n",
       "      <td>149388.247500</td>\n",
       "      <td>0.000000</td>\n",
       "    </tr>\n",
       "    <tr>\n",
       "      <th>max</th>\n",
       "      <td>10000.00000</td>\n",
       "      <td>1.581569e+07</td>\n",
       "      <td>850.000000</td>\n",
       "      <td>2.000000</td>\n",
       "      <td>1.000000</td>\n",
       "      <td>92.000000</td>\n",
       "      <td>10.000000</td>\n",
       "      <td>250898.090000</td>\n",
       "      <td>4.000000</td>\n",
       "      <td>1.00000</td>\n",
       "      <td>1.000000</td>\n",
       "      <td>199992.480000</td>\n",
       "      <td>1.000000</td>\n",
       "    </tr>\n",
       "  </tbody>\n",
       "</table>\n",
       "</div>"
      ],
      "text/plain": [
       "         RowNumber    CustomerId   CreditScore     Geography        Gender  \\\n",
       "count  10000.00000  1.000000e+04  10000.000000  10000.000000  10000.000000   \n",
       "mean    5000.50000  1.569094e+07    650.528800      0.746300      0.545700   \n",
       "std     2886.89568  7.193619e+04     96.653299      0.827529      0.497932   \n",
       "min        1.00000  1.556570e+07    350.000000      0.000000      0.000000   \n",
       "25%     2500.75000  1.562853e+07    584.000000      0.000000      0.000000   \n",
       "50%     5000.50000  1.569074e+07    652.000000      0.000000      1.000000   \n",
       "75%     7500.25000  1.575323e+07    718.000000      1.000000      1.000000   \n",
       "max    10000.00000  1.581569e+07    850.000000      2.000000      1.000000   \n",
       "\n",
       "                Age        Tenure        Balance  NumOfProducts    HasCrCard  \\\n",
       "count  10000.000000  10000.000000   10000.000000   10000.000000  10000.00000   \n",
       "mean      38.921800      5.012800   76485.889288       1.530200      0.70550   \n",
       "std       10.487806      2.892174   62397.405202       0.581654      0.45584   \n",
       "min       18.000000      0.000000       0.000000       1.000000      0.00000   \n",
       "25%       32.000000      3.000000       0.000000       1.000000      0.00000   \n",
       "50%       37.000000      5.000000   97198.540000       1.000000      1.00000   \n",
       "75%       44.000000      7.000000  127644.240000       2.000000      1.00000   \n",
       "max       92.000000     10.000000  250898.090000       4.000000      1.00000   \n",
       "\n",
       "       IsActiveMember  EstimatedSalary        Exited  \n",
       "count    10000.000000     10000.000000  10000.000000  \n",
       "mean         0.515100    100090.239881      0.203700  \n",
       "std          0.499797     57510.492818      0.402769  \n",
       "min          0.000000        11.580000      0.000000  \n",
       "25%          0.000000     51002.110000      0.000000  \n",
       "50%          1.000000    100193.915000      0.000000  \n",
       "75%          1.000000    149388.247500      0.000000  \n",
       "max          1.000000    199992.480000      1.000000  "
      ]
     },
     "execution_count": 10,
     "metadata": {},
     "output_type": "execute_result"
    }
   ],
   "source": [
    "df.describe()"
   ]
  },
  {
   "cell_type": "code",
   "execution_count": 11,
   "metadata": {},
   "outputs": [
    {
     "data": {
      "text/plain": [
       "Index(['RowNumber', 'CustomerId', 'Surname', 'CreditScore', 'Geography',\n",
       "       'Gender', 'Age', 'Tenure', 'Balance', 'NumOfProducts', 'HasCrCard',\n",
       "       'IsActiveMember', 'EstimatedSalary', 'Exited'],\n",
       "      dtype='object')"
      ]
     },
     "execution_count": 11,
     "metadata": {},
     "output_type": "execute_result"
    }
   ],
   "source": [
    "df.columns"
   ]
  },
  {
   "cell_type": "code",
   "execution_count": 12,
   "metadata": {},
   "outputs": [
    {
     "name": "stdout",
     "output_type": "stream",
     "text": [
      "[1 0]\n"
     ]
    }
   ],
   "source": [
    "print(df['Exited'].unique())"
   ]
  },
  {
   "cell_type": "code",
   "execution_count": 13,
   "metadata": {},
   "outputs": [],
   "source": [
    "x=df.drop(['RowNumber','CustomerId','Surname','CreditScore','Exited'],axis=1)\n",
    "y=df['Exited']"
   ]
  },
  {
   "cell_type": "code",
   "execution_count": 14,
   "metadata": {},
   "outputs": [
    {
     "data": {
      "text/plain": [
       "<matplotlib.axes._subplots.AxesSubplot at 0x1b685922b88>"
      ]
     },
     "execution_count": 14,
     "metadata": {},
     "output_type": "execute_result"
    },
    {
     "data": {
      "image/png": "[encoded data removed]",
      "text/plain": [
       "<Figure size 432x288 with 1 Axes>"
      ]
     },
     "metadata": {
      "needs_background": "light"
     },
     "output_type": "display_data"
    }
   ],
   "source": [
    "y.value_counts().plot.bar()"
   ]
  },
  {
   "cell_type": "code",
   "execution_count": 15,
   "metadata": {},
   "outputs": [],
   "source": [
    "from sklearn.model_selection import train_test_split\n",
    "X_train, X_test, y_train, y_test = train_test_split(x, y, test_size = 0.20, random_state = 101)"
   ]
  },
  {
   "cell_type": "code",
   "execution_count": 16,
   "metadata": {},
   "outputs": [],
   "source": [
    "from sklearn.preprocessing import StandardScaler\n",
    "sc = StandardScaler()\n",
    "X_train = sc.fit_transform(X_train)\n",
    "X_test = sc.transform(X_test)"
   ]
  },
  {
   "cell_type": "code",
   "execution_count": 17,
   "metadata": {},
   "outputs": [
    {
     "name": "stdout",
     "output_type": "stream",
     "text": [
      "Model: \"sequential_1\"\n",
      "_________________________________________________________________\n",
      "Layer (type)                 Output Shape              Param #   \n",
      "=================================================================\n",
      "dense_1 (Dense)              (None, 64)                640       \n",
      "_________________________________________________________________\n",
      "dense_2 (Dense)              (None, 16)                1040      \n",
      "_________________________________________________________________\n",
      "dense_3 (Dense)              (None, 1)                 17        \n",
      "=================================================================\n",
      "Total params: 1,697\n",
      "Trainable params: 1,697\n",
      "Non-trainable params: 0\n",
      "_________________________________________________________________\n"
     ]
    }
   ],
   "source": [
    "model=Sequential()\n",
    "model.add(Dense(64,activation='relu',input_shape=(x.shape[1],)))\n",
    "model.add(Dense(16,activation='relu'))\n",
    "model.add(Dense(1,activation='sigmoid'))\n",
    "model.summary()"
   ]
  },
  {
   "cell_type": "code",
   "execution_count": 18,
   "metadata": {},
   "outputs": [
    {
     "name": "stdout",
     "output_type": "stream",
     "text": [
      "WARNING:tensorflow:From C:\\Users\\zekog\\anaconda3\\lib\\site-packages\\tensorflow\\python\\ops\\nn_impl.py:180: add_dispatch_support.<locals>.wrapper (from tensorflow.python.ops.array_ops) is deprecated and will be removed in a future version.\n",
      "Instructions for updating:\n",
      "Use tf.where in 2.0, which has the same broadcast rule as np.where\n"
     ]
    }
   ],
   "source": [
    "#opt = keras.optimizers.SGD(learning_rate=0.01)\n",
    "model.compile(optimizer = \"SGD\", loss = 'binary_crossentropy', metrics = ['accuracy'])"
   ]
  },
  {
   "cell_type": "code",
   "execution_count": 25,
   "metadata": {},
   "outputs": [
    {
     "name": "stdout",
     "output_type": "stream",
     "text": [
      "Train on 6400 samples, validate on 1600 samples\n",
      "Epoch 1/100\n",
      "6400/6400 [==============================] - 1s 106us/step - loss: 0.5490 - accuracy: 0.7914 - val_loss: 0.4892 - val_accuracy: 0.8037\n",
      "Epoch 2/100\n",
      "6400/6400 [==============================] - 0s 67us/step - loss: 0.4840 - accuracy: 0.7969 - val_loss: 0.4581 - val_accuracy: 0.8031\n",
      "Epoch 3/100\n",
      "6400/6400 [==============================] - 0s 66us/step - loss: 0.4624 - accuracy: 0.7973 - val_loss: 0.4408 - val_accuracy: 0.8031\n",
      "Epoch 4/100\n",
      "6400/6400 [==============================] - 0s 62us/step - loss: 0.4491 - accuracy: 0.8003 - val_loss: 0.4296 - val_accuracy: 0.8069\n",
      "Epoch 5/100\n",
      "6400/6400 [==============================] - 0s 67us/step - loss: 0.4401 - accuracy: 0.8045 - val_loss: 0.4221 - val_accuracy: 0.8131\n",
      "Epoch 6/100\n",
      "6400/6400 [==============================] - 0s 70us/step - loss: 0.4336 - accuracy: 0.8072 - val_loss: 0.4167 - val_accuracy: 0.8131\n",
      "Epoch 7/100\n",
      "6400/6400 [==============================] - 0s 69us/step - loss: 0.4285 - accuracy: 0.8139 - val_loss: 0.4121 - val_accuracy: 0.8169\n",
      "Epoch 8/100\n",
      "6400/6400 [==============================] - 0s 74us/step - loss: 0.4240 - accuracy: 0.8178 - val_loss: 0.4079 - val_accuracy: 0.8213\n",
      "Epoch 9/100\n",
      "6400/6400 [==============================] - 1s 95us/step - loss: 0.4196 - accuracy: 0.8202 - val_loss: 0.4043 - val_accuracy: 0.8269\n",
      "Epoch 10/100\n",
      "6400/6400 [==============================] - 0s 68us/step - loss: 0.4151 - accuracy: 0.8223 - val_loss: 0.4004 - val_accuracy: 0.8275\n",
      "Epoch 11/100\n",
      "6400/6400 [==============================] - 1s 83us/step - loss: 0.4106 - accuracy: 0.8269 - val_loss: 0.3967 - val_accuracy: 0.8294\n",
      "Epoch 12/100\n",
      "6400/6400 [==============================] - 0s 77us/step - loss: 0.4061 - accuracy: 0.8298 - val_loss: 0.3929 - val_accuracy: 0.8306\n",
      "Epoch 13/100\n",
      "6400/6400 [==============================] - 0s 71us/step - loss: 0.4016 - accuracy: 0.8313 - val_loss: 0.3889 - val_accuracy: 0.8313\n",
      "Epoch 14/100\n",
      "6400/6400 [==============================] - 1s 83us/step - loss: 0.3970 - accuracy: 0.8361 - val_loss: 0.3845 - val_accuracy: 0.8319\n",
      "Epoch 15/100\n",
      "6400/6400 [==============================] - 1s 81us/step - loss: 0.3925 - accuracy: 0.8397 - val_loss: 0.3808 - val_accuracy: 0.8350\n",
      "Epoch 16/100\n",
      "6400/6400 [==============================] - 1s 108us/step - loss: 0.3881 - accuracy: 0.8431 - val_loss: 0.3777 - val_accuracy: 0.8388\n",
      "Epoch 17/100\n",
      "6400/6400 [==============================] - 0s 78us/step - loss: 0.3841 - accuracy: 0.8459 - val_loss: 0.3740 - val_accuracy: 0.8413\n",
      "Epoch 18/100\n",
      "6400/6400 [==============================] - 1s 122us/step - loss: 0.3799 - accuracy: 0.8491 - val_loss: 0.3713 - val_accuracy: 0.8469\n",
      "Epoch 19/100\n",
      "6400/6400 [==============================] - 1s 101us/step - loss: 0.3765 - accuracy: 0.8509 - val_loss: 0.3676 - val_accuracy: 0.8487\n",
      "Epoch 20/100\n",
      "6400/6400 [==============================] - 1s 78us/step - loss: 0.3729 - accuracy: 0.8523 - val_loss: 0.3648 - val_accuracy: 0.8487\n",
      "Epoch 21/100\n",
      "6400/6400 [==============================] - 1s 79us/step - loss: 0.3698 - accuracy: 0.8530 - val_loss: 0.3630 - val_accuracy: 0.8519\n",
      "Epoch 22/100\n",
      "6400/6400 [==============================] - 1s 101us/step - loss: 0.3670 - accuracy: 0.8545 - val_loss: 0.3611 - val_accuracy: 0.8519\n",
      "Epoch 23/100\n",
      "6400/6400 [==============================] - 0s 70us/step - loss: 0.3645 - accuracy: 0.8548 - val_loss: 0.3594 - val_accuracy: 0.8519\n",
      "Epoch 24/100\n",
      "6400/6400 [==============================] - 0s 78us/step - loss: 0.3622 - accuracy: 0.8562 - val_loss: 0.3572 - val_accuracy: 0.8519\n",
      "Epoch 25/100\n",
      "6400/6400 [==============================] - 0s 77us/step - loss: 0.3604 - accuracy: 0.8542 - val_loss: 0.3558 - val_accuracy: 0.8512\n",
      "Epoch 26/100\n",
      "6400/6400 [==============================] - 0s 76us/step - loss: 0.3585 - accuracy: 0.8553 - val_loss: 0.3556 - val_accuracy: 0.8519\n",
      "Epoch 27/100\n",
      "6400/6400 [==============================] - 1s 79us/step - loss: 0.3570 - accuracy: 0.8559 - val_loss: 0.3538 - val_accuracy: 0.8544\n",
      "Epoch 28/100\n",
      "6400/6400 [==============================] - 1s 83us/step - loss: 0.3556 - accuracy: 0.8556 - val_loss: 0.3534 - val_accuracy: 0.8544\n",
      "Epoch 29/100\n",
      "6400/6400 [==============================] - 0s 75us/step - loss: 0.3541 - accuracy: 0.8570 - val_loss: 0.3532 - val_accuracy: 0.8550\n",
      "Epoch 30/100\n",
      "6400/6400 [==============================] - 1s 112us/step - loss: 0.3533 - accuracy: 0.8555 - val_loss: 0.3532 - val_accuracy: 0.8556\n",
      "Epoch 31/100\n",
      "6400/6400 [==============================] - 1s 82us/step - loss: 0.3522 - accuracy: 0.8567 - val_loss: 0.3523 - val_accuracy: 0.8569\n",
      "Epoch 32/100\n",
      "6400/6400 [==============================] - 1s 87us/step - loss: 0.3513 - accuracy: 0.8572 - val_loss: 0.3527 - val_accuracy: 0.8556\n",
      "Epoch 33/100\n",
      "6400/6400 [==============================] - 0s 76us/step - loss: 0.3502 - accuracy: 0.8566 - val_loss: 0.3512 - val_accuracy: 0.8562\n",
      "Epoch 34/100\n",
      "6400/6400 [==============================] - 1s 88us/step - loss: 0.3496 - accuracy: 0.8578 - val_loss: 0.3509 - val_accuracy: 0.8581\n",
      "Epoch 35/100\n",
      "6400/6400 [==============================] - 0s 75us/step - loss: 0.3488 - accuracy: 0.8580 - val_loss: 0.3508 - val_accuracy: 0.8575\n",
      "Epoch 36/100\n",
      "6400/6400 [==============================] - 0s 77us/step - loss: 0.3480 - accuracy: 0.8577 - val_loss: 0.3499 - val_accuracy: 0.8587\n",
      "Epoch 37/100\n",
      "6400/6400 [==============================] - 1s 94us/step - loss: 0.3470 - accuracy: 0.8575 - val_loss: 0.3506 - val_accuracy: 0.8587\n",
      "Epoch 38/100\n",
      "6400/6400 [==============================] - 1s 88us/step - loss: 0.3467 - accuracy: 0.8597 - val_loss: 0.3507 - val_accuracy: 0.8569\n",
      "Epoch 39/100\n",
      "6400/6400 [==============================] - 0s 74us/step - loss: 0.3460 - accuracy: 0.8575 - val_loss: 0.3504 - val_accuracy: 0.8575\n",
      "Epoch 40/100\n",
      "6400/6400 [==============================] - 0s 75us/step - loss: 0.3455 - accuracy: 0.8586 - val_loss: 0.3498 - val_accuracy: 0.8594\n",
      "Epoch 41/100\n",
      "6400/6400 [==============================] - 0s 74us/step - loss: 0.3448 - accuracy: 0.8587 - val_loss: 0.3501 - val_accuracy: 0.8569\n",
      "Epoch 42/100\n",
      "6400/6400 [==============================] - 0s 76us/step - loss: 0.3443 - accuracy: 0.8583 - val_loss: 0.3501 - val_accuracy: 0.8569\n",
      "Epoch 43/100\n",
      "6400/6400 [==============================] - 0s 77us/step - loss: 0.3436 - accuracy: 0.8592 - val_loss: 0.3493 - val_accuracy: 0.8587\n",
      "Epoch 44/100\n",
      "6400/6400 [==============================] - 1s 85us/step - loss: 0.3433 - accuracy: 0.8578 - val_loss: 0.3497 - val_accuracy: 0.8569\n",
      "Epoch 45/100\n",
      "6400/6400 [==============================] - 0s 75us/step - loss: 0.3429 - accuracy: 0.8602 - val_loss: 0.3499 - val_accuracy: 0.8569\n",
      "Epoch 46/100\n",
      "6400/6400 [==============================] - 0s 75us/step - loss: 0.3420 - accuracy: 0.8617 - val_loss: 0.3500 - val_accuracy: 0.8581\n",
      "Epoch 47/100\n",
      "6400/6400 [==============================] - 1s 80us/step - loss: 0.3418 - accuracy: 0.8595 - val_loss: 0.3491 - val_accuracy: 0.8569\n",
      "Epoch 48/100\n",
      "6400/6400 [==============================] - 1s 87us/step - loss: 0.3413 - accuracy: 0.8600 - val_loss: 0.3496 - val_accuracy: 0.8581\n",
      "Epoch 49/100\n",
      "6400/6400 [==============================] - 0s 77us/step - loss: 0.3406 - accuracy: 0.8611 - val_loss: 0.3485 - val_accuracy: 0.8600\n",
      "Epoch 50/100\n",
      "6400/6400 [==============================] - 1s 83us/step - loss: 0.3405 - accuracy: 0.8600 - val_loss: 0.3492 - val_accuracy: 0.8581\n",
      "Epoch 51/100\n",
      "6400/6400 [==============================] - 1s 79us/step - loss: 0.3397 - accuracy: 0.8605 - val_loss: 0.3499 - val_accuracy: 0.8594\n",
      "Epoch 52/100\n",
      "6400/6400 [==============================] - 1s 78us/step - loss: 0.3397 - accuracy: 0.8612 - val_loss: 0.3479 - val_accuracy: 0.8581\n",
      "Epoch 53/100\n",
      "6400/6400 [==============================] - 1s 91us/step - loss: 0.3390 - accuracy: 0.8619 - val_loss: 0.3485 - val_accuracy: 0.8569\n",
      "Epoch 54/100\n",
      "6400/6400 [==============================] - 1s 92us/step - loss: 0.3387 - accuracy: 0.8614 - val_loss: 0.3487 - val_accuracy: 0.8581\n",
      "Epoch 55/100\n",
      "6400/6400 [==============================] - 1s 93us/step - loss: 0.3382 - accuracy: 0.8620 - val_loss: 0.3482 - val_accuracy: 0.8581\n",
      "Epoch 56/100\n",
      "6400/6400 [==============================] - 0s 77us/step - loss: 0.3378 - accuracy: 0.8623 - val_loss: 0.3484 - val_accuracy: 0.8581\n",
      "Epoch 57/100\n",
      "6400/6400 [==============================] - 0s 63us/step - loss: 0.3369 - accuracy: 0.8617 - val_loss: 0.3479 - val_accuracy: 0.8581\n"
     ]
    },
    {
     "data": {
      "text/plain": [
       "<keras.callbacks.callbacks.History at 0x1c39c3f9448>"
      ]
     },
     "execution_count": 25,
     "metadata": {},
     "output_type": "execute_result"
    }
   ],
   "source": [
    "from keras.callbacks import EarlyStopping\n",
    "es=EarlyStopping(patience=5)\n",
    "model.fit(X_train, y_train,validation_split=0.2,epochs = 100,callbacks=[es])"
   ]
  },
  {
   "cell_type": "code",
   "execution_count": 26,
   "metadata": {},
   "outputs": [
    {
     "name": "stdout",
     "output_type": "stream",
     "text": [
      "Accuracy =  0.8665\n"
     ]
    }
   ],
   "source": [
    "y_pred=model.predict(X_test)\n",
    "y_pred=(y_pred>0.5)\n",
    "# Making the Confusion Matrix\n",
    "from sklearn.metrics import confusion_matrix\n",
    "cm = confusion_matrix(y_test, y_pred)\n",
    "\n",
    "print(\"Accuracy = \",(cm[0,0]+cm[1,1])/(cm.sum()))"
   ]
  },
  {
   "cell_type": "code",
   "execution_count": null,
   "metadata": {},
   "outputs": [],
   "source": []
  }
 ],
 "metadata": {
  "kernelspec": {
   "display_name": "Python 3",
   "language": "python",
   "name": "python3"
  },
  "language_info": {
   "codemirror_mode": {
    "name": "ipython",
    "version": 3
   },
   "file_extension": ".py",
   "mimetype": "text/x-python",
   "name": "python",
   "nbconvert_exporter": "python",
   "pygments_lexer": "ipython3",
   "version": "3.7.6"
  }
 },
 "nbformat": 4,
 "nbformat_minor": 4
}
